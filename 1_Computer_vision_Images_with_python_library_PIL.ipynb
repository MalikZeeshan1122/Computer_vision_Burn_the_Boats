{
  "cells": [
    {
      "cell_type": "markdown",
      "source": [
        "# Muhammad Zeeshan\n",
        "# Machine learning Engineer"
      ],
      "metadata": {
        "id": "WQ95i6myzZN2"
      }
    },
    {
      "cell_type": "markdown",
      "metadata": {
        "id": "kUifVdApzFfw"
      },
      "source": [
        "**<h1> Pillow Library (PIL)</h1>**\n"
      ]
    },
    {
      "cell_type": "markdown",
      "metadata": {
        "id": "NR8Ix9bOzFfx"
      },
      "source": [
        "Estimated time needed: **60** minutes\n"
      ]
    },
    {
      "cell_type": "markdown",
      "metadata": {
        "id": "534i-IT8zFfy"
      },
      "source": [
        "<h2>Objectives</h2>\n"
      ]
    },
    {
      "cell_type": "markdown",
      "metadata": {
        "id": "1mLd9Cd0zFfy"
      },
      "source": [
        "Image processing and computer vision tasks include displaying, cropping, flipping, rotating,  image segmentation, classification, image restoration,  image recognition, image generation.  Also, working with images via the cloud requires storing, transmitting, and gathering images through the internet.\n",
        "\n",
        "Python is an excellent choice as it has many image processing tools, computer vision and artificial intelligence libraries. Finally, it has many libraries for working with files in the cloud and on the internet.\n",
        "\n",
        "A digital image is simply a file in your computer. In this lab, you will gain an understanding of these files and learn to work with these files with the Pillow Library (PIL).\n"
      ]
    },
    {
      "cell_type": "markdown",
      "metadata": {
        "id": "5-N88Nb7zFfz"
      },
      "source": [
        "<ul>\n",
        "    <li><a href='#PIL'>Python Image Libraries </a>\n",
        "        <ul>\n",
        "            <li>Image Files and Paths  </li>\n",
        "            <li>Load in Image in Python</li>\n",
        "            <li>Plotting an Image </li>\n",
        "            <li>Gray Scale Images, Quantization and Color Channels  </li>\n",
        "            <li> PIL Images into NumPy Arrays  </li>\n",
        "        </ul>\n",
        "    </li>\n",
        "    \n",
        "</ul>\n"
      ]
    },
    {
      "cell_type": "markdown",
      "metadata": {
        "id": "0vmiWz94zFf0"
      },
      "source": [
        "----\n"
      ]
    },
    {
      "cell_type": "markdown",
      "metadata": {
        "id": "loAOSygkzFf0"
      },
      "source": [
        "Download the images for the lab:\n"
      ]
    },
    {
      "cell_type": "code",
      "execution_count": null,
      "metadata": {
        "id": "-zmr_jqOzFf1"
      },
      "outputs": [],
      "source": [
        "!wget https://cf-courses-data.s3.us.cloud-object-storage.appdomain.cloud/IBMDeveloperSkillsNetwork-CV0101EN-SkillsNetwork/images%20/images_part_1/lenna.png -O lenna.png\n",
        "!wget https://cf-courses-data.s3.us.cloud-object-storage.appdomain.cloud/IBMDeveloperSkillsNetwork-CV0101EN-SkillsNetwork/images%20/images_part_1/baboon.png -O baboon.png\n",
        "!wget https://cf-courses-data.s3.us.cloud-object-storage.appdomain.cloud/IBMDeveloperSkillsNetwork-CV0101EN-SkillsNetwork/images%20/images_part_1/barbara.png -O barbara.png"
      ]
    },
    {
      "cell_type": "markdown",
      "metadata": {
        "id": "TjfeEaQSzFf3"
      },
      "source": [
        "First, let's define a helper function to concatenate two images side-by-side. You will not need to understand the code below at this moment, but this function will be used repeatedly in this tutorial to showcase the results.\n"
      ]
    },
    {
      "cell_type": "code",
      "execution_count": null,
      "metadata": {
        "id": "AnZRvJsjzFf4"
      },
      "outputs": [],
      "source": [
        "def get_concat_h(im1, im2):\n",
        "    #https://note.nkmk.me/en/python-pillow-concat-images/\n",
        "    dst = Image.new('RGB', (im1.width + im2.width, im1.height))\n",
        "    dst.paste(im1, (0, 0))\n",
        "    dst.paste(im2, (im1.width, 0))\n",
        "    return dst"
      ]
    },
    {
      "cell_type": "markdown",
      "metadata": {
        "id": "pn5s3a1qzFf4"
      },
      "source": [
        "## Image Files and Paths  \n"
      ]
    },
    {
      "cell_type": "markdown",
      "metadata": {
        "id": "tggZ4h1KzFf5"
      },
      "source": [
        "An image is stored as a file on your computer. Below, we define `my_image` as the filename of a file in this directory.\n"
      ]
    },
    {
      "cell_type": "code",
      "execution_count": null,
      "metadata": {
        "id": "2q34zAaJzFf5"
      },
      "outputs": [],
      "source": [
        "my_image = \"lenna.png\""
      ]
    },
    {
      "cell_type": "markdown",
      "metadata": {
        "id": "LeyEeLQNzFf6"
      },
      "source": [
        "A filename consists of two parts: the name of the file and the extension, separated by a full stop (`.`). The extension specifies the format of the Image. There are two popular image formats: Joint Photographic Expert Group image (or `.jpg`, `.jpeg`) and Portable Network Graphics (or `.png`). These file types make it simpler to work with images. For example, it compresses the image, taking less spaces on your drive to store the image.\n"
      ]
    },
    {
      "cell_type": "markdown",
      "metadata": {
        "id": "9HFE8qzazFf6"
      },
      "source": [
        "Image files are stored in the file system of your computer. The location of it is specified using a \"path\", which is often unique. You can find the path of your current working directory with Python's `os` module. The `os` module provides functions to interact with the file system, e.g. creating or removing a directory (folder), listing its contents, changing and identifying the current working directory.\n"
      ]
    },
    {
      "cell_type": "code",
      "execution_count": null,
      "metadata": {
        "id": "30upU3k0zFf6"
      },
      "outputs": [],
      "source": [
        "import os\n",
        "cwd = os.getcwd()\n",
        "cwd"
      ]
    },
    {
      "cell_type": "markdown",
      "metadata": {
        "id": "Guf63AU-zFf6"
      },
      "source": [
        "The \"path\" to an image can be found using the following line of code.\n"
      ]
    },
    {
      "cell_type": "code",
      "execution_count": null,
      "metadata": {
        "id": "DqvEtsv4zFf7"
      },
      "outputs": [],
      "source": [
        "image_path = os.path.join(cwd, my_image)\n",
        "image_path"
      ]
    },
    {
      "cell_type": "markdown",
      "metadata": {
        "id": "d_0NlEFpzFf7"
      },
      "source": [
        "## Load Images in Python\n"
      ]
    },
    {
      "cell_type": "markdown",
      "metadata": {
        "id": "JZ8KEbvwzFf7"
      },
      "source": [
        "Pillow (PIL) library is a popular library for loading images in Python. In addition, many other libraries such as \"Keras\" and \"PyTorch\" use this library to work with images. The `Image` module provides functions to load images from and saving images to the file system. Let's import it from `PIL`.\n"
      ]
    },
    {
      "cell_type": "code",
      "execution_count": null,
      "metadata": {
        "id": "0cUjV-hvzFf7"
      },
      "outputs": [],
      "source": [
        "from PIL import Image"
      ]
    },
    {
      "cell_type": "markdown",
      "metadata": {
        "id": "flry2NKxzFf8"
      },
      "source": [
        "If the image is in the current working directory, you can load the image as follows using the image's filename and create a PIL Image object:\n"
      ]
    },
    {
      "cell_type": "code",
      "execution_count": null,
      "metadata": {
        "id": "S9q1qM-1zFf8"
      },
      "outputs": [],
      "source": [
        "image = Image.open(my_image)\n",
        "type(image)"
      ]
    },
    {
      "cell_type": "markdown",
      "metadata": {
        "id": "uIHqgNqIzFf8"
      },
      "source": [
        "If you are working in a Jupyter environment, you can view the image by calling the variable itself.  \n"
      ]
    },
    {
      "cell_type": "code",
      "execution_count": null,
      "metadata": {
        "id": "Wkdhd2kvzFf8"
      },
      "outputs": [],
      "source": [
        "image"
      ]
    },
    {
      "cell_type": "markdown",
      "metadata": {
        "id": "3CiRZcOazFf9"
      },
      "source": [
        "##  Plotting an Image\n"
      ]
    },
    {
      "cell_type": "markdown",
      "metadata": {
        "id": "FGUy9sE9zFf9"
      },
      "source": [
        "We can also use the method `show` of PIL objects to display the image. Please note this method may or may not work depending on your setup.\n"
      ]
    },
    {
      "cell_type": "code",
      "execution_count": null,
      "metadata": {
        "id": "-HW_WqPOzFf9"
      },
      "outputs": [],
      "source": [
        "image.show()"
      ]
    },
    {
      "cell_type": "markdown",
      "metadata": {
        "id": "rKjLHnFYzFf9"
      },
      "source": [
        "You can also use <code>imshow</code> method from the <code>matplotlib</code> library to display the image.\n"
      ]
    },
    {
      "cell_type": "code",
      "execution_count": null,
      "metadata": {
        "id": "EkdaQaKNzFf-"
      },
      "outputs": [],
      "source": [
        "import matplotlib.pyplot as plt"
      ]
    },
    {
      "cell_type": "code",
      "execution_count": null,
      "metadata": {
        "id": "gBwGN7gezFf-"
      },
      "outputs": [],
      "source": [
        "plt.figure(figsize=(10,10))\n",
        "plt.imshow(image)\n",
        "plt.show()"
      ]
    },
    {
      "cell_type": "markdown",
      "metadata": {
        "id": "CSCm94xjzFf-"
      },
      "source": [
        "You can also load the image using its full path. This comes in handy if the image is not in your working directory.\n"
      ]
    },
    {
      "cell_type": "code",
      "execution_count": null,
      "metadata": {
        "id": "Q-J9XF6UzFf-"
      },
      "outputs": [],
      "source": [
        "image = Image.open(image_path)"
      ]
    },
    {
      "cell_type": "markdown",
      "metadata": {
        "id": "y0ryawHDzFf-"
      },
      "source": [
        "We can use the attributes of the image object to get information. The attribute format is the extension or format of the image.\n"
      ]
    },
    {
      "cell_type": "markdown",
      "metadata": {
        "id": "AmcFanYQzFf_"
      },
      "source": [
        "The attribute `size` returns a tuple, the first element is the number of pixels that comprise the width and the second element is the number of pixels that make up the height of the image.   \n"
      ]
    },
    {
      "cell_type": "code",
      "execution_count": null,
      "metadata": {
        "id": "dKdXJ6jXzFf_"
      },
      "outputs": [],
      "source": [
        "print(image.size)"
      ]
    },
    {
      "cell_type": "markdown",
      "metadata": {
        "id": "TjZWlKqnzFf_"
      },
      "source": [
        "This is a string specifying the pixel format used. In this case, it's “RGB”. RGB is a color space where red, green, and blue are added together to produce other colors.\n",
        "\n"
      ]
    },
    {
      "cell_type": "code",
      "execution_count": null,
      "metadata": {
        "id": "jYbdzkpMzFf_"
      },
      "outputs": [],
      "source": [
        "print(image.mode)"
      ]
    },
    {
      "cell_type": "markdown",
      "metadata": {
        "id": "uwco4-SrzFgG"
      },
      "source": [
        "The `Image.open` method does not load image data into the computer memory. The `load` method of `PIL` object reads the file content, decodes it, and expands the image into memory.\n"
      ]
    },
    {
      "cell_type": "code",
      "execution_count": null,
      "metadata": {
        "id": "-jokeshtzFgH"
      },
      "outputs": [],
      "source": [
        "im = image.load()"
      ]
    },
    {
      "cell_type": "markdown",
      "metadata": {
        "id": "s1IHyCArzFgH"
      },
      "source": [
        "We can then check the intensity of the image at the $x$-th column and $y$-th row:\n"
      ]
    },
    {
      "cell_type": "code",
      "execution_count": null,
      "metadata": {
        "id": "qWkt7B1azFgH"
      },
      "outputs": [],
      "source": [
        "x = 0\n",
        "y = 1\n",
        "im[y,x]"
      ]
    },
    {
      "cell_type": "markdown",
      "metadata": {
        "id": "DtZJtk5MzFgI"
      },
      "source": [
        "We will use the array form to access the elements; it is slightly different.\n"
      ]
    },
    {
      "cell_type": "markdown",
      "metadata": {
        "id": "6X7rrBgUzFgI"
      },
      "source": [
        "You can save the image in `jpg` format using the following command.\n"
      ]
    },
    {
      "cell_type": "code",
      "execution_count": null,
      "metadata": {
        "id": "sSJlTRCkzFgI"
      },
      "outputs": [],
      "source": [
        "image.save(\"lenna.jpg\")"
      ]
    },
    {
      "cell_type": "markdown",
      "metadata": {
        "id": "VGxwICBPzFgI"
      },
      "source": [
        "## Grayscale Images, Quantization and Color Channels  \n"
      ]
    },
    {
      "cell_type": "markdown",
      "metadata": {
        "id": "Y87QrKO1zFgJ"
      },
      "source": [
        "### Grayscale Images\n"
      ]
    },
    {
      "cell_type": "markdown",
      "metadata": {
        "id": "kpQ2Slb0zFgJ"
      },
      "source": [
        "The `ImageOps` module contains several ‘ready-made’ image processing operations. This module is somewhat experimental, and most operators only work with grayscale and/or RGB images.\n"
      ]
    },
    {
      "cell_type": "code",
      "execution_count": null,
      "metadata": {
        "id": "5Cmdv3dizFgJ"
      },
      "outputs": [],
      "source": [
        "from PIL import ImageOps"
      ]
    },
    {
      "cell_type": "markdown",
      "metadata": {
        "id": "8OyIeyGYzFgJ"
      },
      "source": [
        "Grayscale images have pixel values representing the amount of light or intensity of that pixel. Light shades of gray have a high-intensity while darker shades have a lower intensity, i.e, white has the highest intensity and black the lowest.\n"
      ]
    },
    {
      "cell_type": "code",
      "execution_count": null,
      "metadata": {
        "id": "KXC3uSAdzFgK"
      },
      "outputs": [],
      "source": [
        "image_gray = ImageOps.grayscale(image)\n",
        "image_gray"
      ]
    },
    {
      "cell_type": "markdown",
      "metadata": {
        "id": "MEfPJL5czFgK"
      },
      "source": [
        "The mode is `L` for grayscale.\n"
      ]
    },
    {
      "cell_type": "code",
      "execution_count": null,
      "metadata": {
        "id": "Bzkrc05-zFgK"
      },
      "outputs": [],
      "source": [
        "image_gray.mode"
      ]
    },
    {
      "cell_type": "markdown",
      "metadata": {
        "id": "HMU4iqLGzFgK"
      },
      "source": [
        "### Quantization\n"
      ]
    },
    {
      "cell_type": "markdown",
      "metadata": {
        "id": "vnXF6VBIzFgL"
      },
      "source": [
        "The Quantization of an image is the number of unique intensity values any given pixel of the image can take. For a grayscale image, this means the number of different shades of gray. Most images have 256 different levels. You can decrease the levels using the method `quantize`. Let's repeatably cut the number of levels in half and observe what happens:\n"
      ]
    },
    {
      "cell_type": "markdown",
      "metadata": {
        "id": "TR9uOhPUzFgL"
      },
      "source": [
        "Half the levels do not make a noticable difference.\n"
      ]
    },
    {
      "cell_type": "code",
      "execution_count": null,
      "metadata": {
        "id": "sqnQgkhvzFgL"
      },
      "outputs": [],
      "source": [
        "image_gray.quantize(256 // 2)\n",
        "image_gray.show()"
      ]
    },
    {
      "cell_type": "markdown",
      "metadata": {
        "id": "bZmiQri8zFgM"
      },
      "source": [
        "Let’s continue dividing the number of values by two and compare it to the original image.\n"
      ]
    },
    {
      "cell_type": "code",
      "execution_count": null,
      "metadata": {
        "id": "A0eWkGz3zFgM"
      },
      "outputs": [],
      "source": [
        "#get_concat_h(image_gray,  image_gray.quantize(256//2)).show(title=\"Lena\")\n",
        "for n in range(3,8):\n",
        "    plt.figure(figsize=(10,10))\n",
        "\n",
        "    plt.imshow(get_concat_h(image_gray,  image_gray.quantize(256//2**n)))\n",
        "    plt.title(\"256 Quantization Levels  left vs {}  Quantization Levels right\".format(256//2**n))\n",
        "    plt.show()"
      ]
    },
    {
      "cell_type": "markdown",
      "metadata": {
        "id": "cab_azNvzFgM"
      },
      "source": [
        "### Color Channels  \n"
      ]
    },
    {
      "cell_type": "markdown",
      "metadata": {
        "id": "1KRJs4XbzFgM"
      },
      "source": [
        "We can also work with the different color channels. Consider the following image:\n"
      ]
    },
    {
      "cell_type": "code",
      "execution_count": null,
      "metadata": {
        "id": "f0Anp8D0zFgN"
      },
      "outputs": [],
      "source": [
        "baboon = Image.open('baboon.png')\n",
        "baboon"
      ]
    },
    {
      "cell_type": "markdown",
      "metadata": {
        "id": "iSiDp3SozFgN"
      },
      "source": [
        "We can obtain the different RGB color channels and assign them to the variables <code>red</code>, <code>green</code>, and <code>blue</code>:\n"
      ]
    },
    {
      "cell_type": "code",
      "execution_count": null,
      "metadata": {
        "id": "cv452dEGzFgN"
      },
      "outputs": [],
      "source": [
        "red, green, blue = baboon.split()"
      ]
    },
    {
      "cell_type": "markdown",
      "metadata": {
        "id": "PzBmOqGhzFgN"
      },
      "source": [
        "Plotting the color image next to the red channel as a grayscale, we see that regions with red have higher intensity values.\n"
      ]
    },
    {
      "cell_type": "code",
      "execution_count": null,
      "metadata": {
        "id": "rX6pcCTbzFgN"
      },
      "outputs": [],
      "source": [
        "get_concat_h(baboon, red)"
      ]
    },
    {
      "cell_type": "markdown",
      "metadata": {
        "id": "fAWfgSMbzFgO"
      },
      "source": [
        "We can do the same for the blue and green channels:\n"
      ]
    },
    {
      "cell_type": "code",
      "execution_count": null,
      "metadata": {
        "id": "NCmeVyeFzFgO"
      },
      "outputs": [],
      "source": [
        "get_concat_h(baboon, blue)"
      ]
    },
    {
      "cell_type": "code",
      "execution_count": null,
      "metadata": {
        "id": "_uWBsHYBzFgO"
      },
      "outputs": [],
      "source": [
        "get_concat_h(baboon, green)"
      ]
    },
    {
      "cell_type": "markdown",
      "metadata": {
        "id": "YDIrNCbHzFgO"
      },
      "source": [
        "## PIL Images into NumPy Arrays\n"
      ]
    },
    {
      "cell_type": "markdown",
      "metadata": {
        "id": "ivCctoeLzFgP"
      },
      "source": [
        "NumPy is a library for Python, allowing you to work with multi-dimensional arrays and matrices. We can convert a PIL image to a NumPy array. We use <code>asarray()</code> or <code>array</code> function from NumPy to convert PIL images into NumPy arrays.\n",
        "\n",
        "First, let's import the numpy module:\n"
      ]
    },
    {
      "cell_type": "code",
      "execution_count": null,
      "metadata": {
        "id": "PyHElstTzFgP"
      },
      "outputs": [],
      "source": [
        "import numpy as np"
      ]
    },
    {
      "cell_type": "markdown",
      "metadata": {
        "id": "13KDcec5zFgP"
      },
      "source": [
        "We apply it to the <code>PIL</code> image we get a numpy array:\n"
      ]
    },
    {
      "cell_type": "code",
      "execution_count": null,
      "metadata": {
        "id": "5-QB8QOQzFgQ"
      },
      "outputs": [],
      "source": [
        "array= np.asarray(image)\n",
        "print(type(array))"
      ]
    },
    {
      "cell_type": "markdown",
      "metadata": {
        "id": "vrYIUDnmzFgQ"
      },
      "source": [
        "`np.asarray` turns the original image into a numpy array. Often, we don't want to manipulate the image directly, but instead, create a copy of the image to manipulate. The `np.array` method creates a new copy of the image, such that the original one will remain unmodified.\n"
      ]
    },
    {
      "cell_type": "code",
      "execution_count": null,
      "metadata": {
        "id": "Td5s29hZzFgQ"
      },
      "outputs": [],
      "source": [
        "array = np.array(image)"
      ]
    },
    {
      "cell_type": "markdown",
      "metadata": {
        "id": "8Rtg2HeKzFgQ"
      },
      "source": [
        "The attribute  <code>shape</code> of a `numpy.array` object returns a tuple corresponding to the dimensions of it, the first element gives the number of rows or height of the image,  the second is element is the number of columns or width of the image. The final element is the number of colour channels.\n"
      ]
    },
    {
      "cell_type": "code",
      "execution_count": null,
      "metadata": {
        "id": "KWEScTACzFgR"
      },
      "outputs": [],
      "source": [
        "# summarize shape\n",
        "print(array.shape)"
      ]
    },
    {
      "cell_type": "markdown",
      "metadata": {
        "id": "UYASjFqPzFgR"
      },
      "source": [
        "or <code>(rows, columns, colors)</code>. Each element in the color axis  corresponds to the following value  <code>(R, G, B)</code> format.\n"
      ]
    },
    {
      "cell_type": "markdown",
      "metadata": {
        "id": "Nnv6hRvizFgR"
      },
      "source": [
        "We can view the intensity values by printing out the array, they range from 0 to 255 or $2^{8}$ (8-bit).\n"
      ]
    },
    {
      "cell_type": "code",
      "execution_count": null,
      "metadata": {
        "id": "ED6DRdc8zFgS"
      },
      "outputs": [],
      "source": [
        "print(array)"
      ]
    },
    {
      "cell_type": "markdown",
      "metadata": {
        "id": "7xYwPgYCzFgS"
      },
      "source": [
        "The Intensity values are  8-bit unsigned datatype.\n"
      ]
    },
    {
      "cell_type": "code",
      "execution_count": null,
      "metadata": {
        "id": "BQzf3MWizFgS"
      },
      "outputs": [],
      "source": [
        "array[0, 0]"
      ]
    },
    {
      "cell_type": "markdown",
      "metadata": {
        "id": "74ENUztTzFgS"
      },
      "source": [
        "We can find the maximum and minimum intensity value of the array:      \n"
      ]
    },
    {
      "cell_type": "code",
      "execution_count": null,
      "metadata": {
        "id": "y5gUaMijzFgS"
      },
      "outputs": [],
      "source": [
        "array.min()"
      ]
    },
    {
      "cell_type": "code",
      "execution_count": null,
      "metadata": {
        "id": "NIChtG6BzFgT"
      },
      "outputs": [],
      "source": [
        "array.max()"
      ]
    },
    {
      "cell_type": "markdown",
      "metadata": {
        "id": "50CoOD4PzFgT"
      },
      "source": [
        "### Indexing  \n"
      ]
    },
    {
      "cell_type": "markdown",
      "metadata": {
        "id": "UyFfhUU5zFgT"
      },
      "source": [
        "You can plot the array as an image:\n"
      ]
    },
    {
      "cell_type": "code",
      "execution_count": null,
      "metadata": {
        "id": "-fGPKtyLzFgT"
      },
      "outputs": [],
      "source": [
        "plt.figure(figsize=(10,10))\n",
        "plt.imshow(array)\n",
        "plt.show()"
      ]
    },
    {
      "cell_type": "markdown",
      "metadata": {
        "id": "WpX-v-cSzFgT"
      },
      "source": [
        "We can use numpy slicing, for example, we can return the first 256 rows corresponding to the top half of the image:\n"
      ]
    },
    {
      "cell_type": "code",
      "execution_count": null,
      "metadata": {
        "id": "LDCNza9izFgU"
      },
      "outputs": [],
      "source": [
        "rows = 256"
      ]
    },
    {
      "cell_type": "code",
      "execution_count": null,
      "metadata": {
        "id": "CIVMNuMVzFgU"
      },
      "outputs": [],
      "source": [
        "plt.figure(figsize=(10,10))\n",
        "plt.imshow(array[0:rows,:,:])\n",
        "plt.show()"
      ]
    },
    {
      "cell_type": "markdown",
      "metadata": {
        "id": "mDBNCXupzFgU"
      },
      "source": [
        "We can also return the first 256 columns corresponding to the first half of the image.\n"
      ]
    },
    {
      "cell_type": "code",
      "execution_count": null,
      "metadata": {
        "id": "klIn0SBlzFgU"
      },
      "outputs": [],
      "source": [
        "columns = 256"
      ]
    },
    {
      "cell_type": "code",
      "execution_count": null,
      "metadata": {
        "id": "M7KGuh9azFgV"
      },
      "outputs": [],
      "source": [
        "plt.figure(figsize=(10,10))\n",
        "plt.imshow(array[:,0:columns,:])\n",
        "plt.show()"
      ]
    },
    {
      "cell_type": "markdown",
      "metadata": {
        "id": "2Bt697I4zFgV"
      },
      "source": [
        "If you want to reassign an array to another variable, you should use the `copy` method (we will cover this in the next section).\n"
      ]
    },
    {
      "cell_type": "code",
      "execution_count": null,
      "metadata": {
        "id": "aIZo1VVZzFgV"
      },
      "outputs": [],
      "source": [
        "A = array.copy()\n",
        "plt.imshow(A)\n",
        "plt.show()"
      ]
    },
    {
      "cell_type": "markdown",
      "metadata": {
        "id": "HOAZrHi4zFgV"
      },
      "source": [
        "If we do not apply the method copy(), the variable will point to the same location in memory. Consider the array B. If we set all values of array A to zero, as B points to A, the values of B will be zero too:\n"
      ]
    },
    {
      "cell_type": "code",
      "execution_count": null,
      "metadata": {
        "id": "6uHHPxO7zFgW"
      },
      "outputs": [],
      "source": [
        "B = A\n",
        "A[:,:,:] = 0\n",
        "plt.imshow(B)\n",
        "plt.show()"
      ]
    },
    {
      "cell_type": "markdown",
      "metadata": {
        "id": "bHDcfb-JzFgW"
      },
      "source": [
        "We can also work with the different color channels. Consider the baboon image:\n"
      ]
    },
    {
      "cell_type": "code",
      "execution_count": null,
      "metadata": {
        "id": "qHhbmHllzFgW"
      },
      "outputs": [],
      "source": [
        "baboon_array = np.array(baboon)\n",
        "plt.figure(figsize=(10,10))\n",
        "plt.imshow(baboon_array)\n",
        "plt.show()"
      ]
    },
    {
      "cell_type": "markdown",
      "metadata": {
        "id": "CX3BLueazFgW"
      },
      "source": [
        "We can plot the red channel as intensity values of the red channel.\n"
      ]
    },
    {
      "cell_type": "code",
      "execution_count": null,
      "metadata": {
        "id": "iLxO3XlGzFgW"
      },
      "outputs": [],
      "source": [
        "baboon_array = np.array(baboon)\n",
        "plt.figure(figsize=(10,10))\n",
        "plt.imshow(baboon_array[:,:,0], cmap='gray')\n",
        "plt.show()"
      ]
    },
    {
      "cell_type": "markdown",
      "metadata": {
        "id": "DMEaLg63zFgX"
      },
      "source": [
        "Or we can create a new array and set all but the red color channels to zero. Therefore, when we display the image it appears red:\n"
      ]
    },
    {
      "cell_type": "code",
      "execution_count": null,
      "metadata": {
        "id": "-_eToRt6zFgX"
      },
      "outputs": [],
      "source": [
        "baboon_red=baboon_array.copy()\n",
        "baboon_red[:,:,1] = 0\n",
        "baboon_red[:,:,2] = 0\n",
        "plt.figure(figsize=(10,10))\n",
        "plt.imshow(baboon_red)\n",
        "plt.show()"
      ]
    },
    {
      "cell_type": "markdown",
      "metadata": {
        "id": "GRlneYGDzFgX"
      },
      "source": [
        "We can do the same for blue:\n"
      ]
    },
    {
      "cell_type": "code",
      "execution_count": null,
      "metadata": {
        "id": "aKGKtjx5zFgX"
      },
      "outputs": [],
      "source": [
        "baboon_blue=baboon_array.copy()\n",
        "baboon_blue[:,:,0] = 0\n",
        "baboon_blue[:,:,1] = 0\n",
        "plt.figure(figsize=(10,10))\n",
        "plt.imshow(baboon_blue)\n",
        "plt.show()"
      ]
    },
    {
      "cell_type": "markdown",
      "metadata": {
        "id": "xTYLMV_wzFgY"
      },
      "source": [
        "### Question 1:\n",
        "Use the image `lenna.png` from this lab or take any image you like.\n",
        "\n",
        "Open the image and create a PIL Image object called `blue_lenna`, convert the image into a numpy array we can manipulate called `blue_array`, get the blue channel out of it, and finally plot the image\n"
      ]
    },
    {
      "cell_type": "code",
      "execution_count": null,
      "metadata": {
        "id": "tDr06YNYzFgY"
      },
      "outputs": [],
      "source": [
        "# write your code here\n"
      ]
    },
    {
      "cell_type": "markdown",
      "metadata": {
        "id": "73xxFKT_zFgY"
      },
      "source": [
        "Double-click **here** for a hint.\n",
        "\n",
        "<!-- The hint is below:\n",
        "\n",
        "blue_array[:,:,2] = 0\n",
        "\n",
        "-->\n"
      ]
    },
    {
      "cell_type": "markdown",
      "metadata": {
        "id": "v4AfRNv1zFgZ"
      },
      "source": [
        "Double-click **here** for the solution.\n",
        "\n",
        "<!-- The answer is below:\n",
        "\n",
        "blue_lenna = Image.open('lenna.png')\n",
        "blue_array = np.array(blue_lenna)\n",
        "blue_array[:,:,2] = 0\n",
        "plt.figure(figsize=(10,10))\n",
        "plt.imshow(blue_array)\n",
        "plt.show()\n",
        "\n",
        "-->\n"
      ]
    },
    {
      "cell_type": "markdown",
      "metadata": {
        "id": "vFt9GJsEzFgZ"
      },
      "source": [
        "<h2>Authors</h2>\n"
      ]
    },
    {
      "cell_type": "markdown",
      "metadata": {
        "id": "3sXm9DZ5zFgZ"
      },
      "source": [
        " [Muhammad Zeeshan](https://www.linkedin.com/in/muhammadzeeshan007/) has a in Artificial Intelligence, his research focused on using machine learning, signal processing, and computer vision to determine how videos impact human cognition."
      ]
    },
    {
      "cell_type": "markdown",
      "metadata": {
        "id": "q9AsilPOzFgZ"
      },
      "source": [
        " [Muhammad Zeeshan](https://www.linkedin.com/in/muhammadzeeshan007/) has in artificial intelligence degree, focusing on using machine learning and computer vision.\n"
      ]
    },
    {
      "cell_type": "markdown",
      "metadata": {
        "id": "rphEK3bHzFga"
      },
      "source": [
        "# References\n"
      ]
    },
    {
      "cell_type": "markdown",
      "metadata": {
        "id": "KAzNNzRQzFga"
      },
      "source": [
        "[1]  Images were taken from: https://homepages.cae.wisc.edu/~ece533/images/\n",
        "    \n",
        "[2]  <a href='https://pillow.readthedocs.io/en/stable/index.html?utm_medium=Exinfluencer&utm_source=Exinfluencer&utm_content=000026UJ&utm_term=10006555&utm_id=NA-SkillsNetwork-Channel-SkillsNetworkCoursesIBMDeveloperSkillsNetworkCV0101ENCoursera872-2022-01-01'>Pillow Docs</a>\n",
        "\n",
        "[3]  <a href='https://opencv.org/?utm_medium=Exinfluencer&utm_source=Exinfluencer&utm_content=000026UJ&utm_term=10006555&utm_id=NA-SkillsNetwork-Channel-SkillsNetworkCoursesIBMDeveloperSkillsNetworkCV0101ENCoursera872-2022-01-01'>Open CV</a>\n",
        "\n",
        "\n"
      ]
    },
    {
      "cell_type": "markdown",
      "metadata": {
        "id": "bb_I2gNpzFga"
      },
      "source": [
        "<h2>Change Log</h2>\n"
      ]
    },
    {
      "cell_type": "markdown",
      "metadata": {
        "id": "-M6gMayKzFga"
      },
      "source": [
        "<table>\n",
        "    <tr>\n",
        "        <th>Date (YYYY-MM-DD)</th>\n",
        "        <th>Version</th>\n",
        "        <th>Changed By</th>\n",
        "        <th>Change Description</th>\n",
        "    </tr>\n",
        "    <tr>\n",
        "        <td>2023-11-15</td>\n",
        "        <td>0.2</td>\n",
        "        <td>Muhammad Zeeshan</td>\n",
        "        <td>Modified Multiple Areas</td>\n",
        "    </tr>\n",
        "    <tr>\n",
        "        <td>2023-11-15</td>\n",
        "        <td>0.1</td>\n",
        "        <td>Muhammad Zeeshan</td>\n",
        "        <td>Created Lab Template</td>\n",
        "    </tr>\n",
        "    <tr>\n",
        "        <td>2023-11-15</td>\n",
        "        <td>0.3</td>\n",
        "        <td>Muhammad Zeeshan</td>\n",
        "        <td>Modified some codes</td>\n",
        "    </tr>\n",
        "</table>\n"
      ]
    },
    {
      "cell_type": "markdown",
      "metadata": {
        "id": "VG-dmkT5zFga"
      },
      "source": [
        "Copyright © 2023 XBOOM AI  Corporation. All rights reserved.\n"
      ]
    }
  ],
  "metadata": {
    "kernelspec": {
      "display_name": "Python",
      "language": "python",
      "name": "conda-env-python-py"
    },
    "language_info": {
      "codemirror_mode": {
        "name": "ipython",
        "version": 3
      },
      "file_extension": ".py",
      "mimetype": "text/x-python",
      "name": "python",
      "nbconvert_exporter": "python",
      "pygments_lexer": "ipython3",
      "version": "3.7.12"
    },
    "colab": {
      "provenance": []
    }
  },
  "nbformat": 4,
  "nbformat_minor": 0
}